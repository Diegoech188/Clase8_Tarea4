{
 "cells": [
  {
   "cell_type": "markdown",
   "metadata": {},
   "source": [
    "<img style=\"float: left; margin: 30px 15px 15px 15px;\" src=\"https://pngimage.net/wp-content/uploads/2018/06/logo-iteso-png-5.png\" width=\"300\" height=\"500\" /> \n",
    "    \n",
    "    \n",
    "### <font color='navy'> Simulación de procesos financieros. \n",
    "\n",
    "**Nombres:** IGNACIO MAXIMILIANO JIMENEZ RAMIREZ Y DIEGO ECHEVERRÍA..\n",
    "\n",
    "**Fecha:** 18 de Septiembre del 2023.\n",
    "\n",
    "**Expediente** : 725502 y 715091.\n",
    "**Profesor:** Oscar David Jaramillo Zuluaga.\n",
    "    \n",
    "**Link Github**: https://github.com/Diegoech188/Clase8_Tarea4\n",
    "\n",
    "# Tarea 3: Clase 7"
   ]
  },
  {
   "cell_type": "code",
   "execution_count": 38,
   "metadata": {},
   "outputs": [],
   "source": [
    "import random"
   ]
  },
  {
   "cell_type": "markdown",
   "metadata": {},
   "source": [
    "# Tarea\n",
    "\n",
    "# 1\n",
    "Como ejemplo simple de una simulación de Monte Carlo, considere calcular la probabilidad de una suma particular del lanzamiento de tres dados (cada dado tiene valores del uno al seis). Además cada dado tiene las siguientes carácterísticas: el primer dado no está cargado (distribución uniforme todos son equiprobables); el segundo y tercer dado están cargados basados en una distribución binomial con parámetros (`n=5, p=0.5` y `n=5, p=0.2`). Calcule la probabilidad de que la suma resultante sea 7, 14 o 18. "
   ]
  },
  {
   "cell_type": "code",
   "execution_count": 57,
   "metadata": {},
   "outputs": [
    {
     "name": "stdout",
     "output_type": "stream",
     "text": [
      "Probabilidad de obtener una suma de 7: 16.1420%\n",
      "Probabilidad de obtener una suma de 14: 0.0550%\n",
      "Probabilidad de obtener una suma de 18: 0.0000%\n"
     ]
    }
   ],
   "source": [
    "#Solución Diego\n",
    "\n",
    "# distribución binomial\n",
    "def dado_cargado(n, p):\n",
    "    lanzamientos = [random.random() < p for i in range(n)]\n",
    "    return sum(lanzamientos)\n",
    "\n",
    "def simulacion_monte_carlo(intentos):\n",
    "    conteo_7, conteo_14, conteo_18  = 0, 0, 0\n",
    "\n",
    "    for _ in range(intentos):\n",
    "        dado1 = random.randint(1, 6)\n",
    "        dado2 = dado_cargado(5, 0.5)\n",
    "        dado3 = dado_cargado(5, 0.2)\n",
    "        \n",
    "        suma = dado1 + dado2 + dado3\n",
    "\n",
    "        if suma == 7:\n",
    "            conteo_7+= 1\n",
    "        elif suma == 14:\n",
    "            conteo_14 += 1\n",
    "        elif suma == 18:\n",
    "            conteo_18 += 1\n",
    "\n",
    "    probabilidad_7 = conteo_7 / intentos\n",
    "    probabilidad_14 = conteo_14 / intentos\n",
    "    probabilidad_18 = conteo_18 / intentos\n",
    "\n",
    "    return probabilidad_7, probabilidad_14, probabilidad_18\n",
    "\n",
    "# Número de intentos de simulación\n",
    "intentos = 100000\n",
    "\n",
    "# Realizar la simulación de Monte Carlo\n",
    "probabilidad_7, probabilidad_14, probabilidad_18 = simulacion_monte_carlo(intentos)\n",
    "\n",
    "# Imprimir los resultados\n",
    "print(f\"Probabilidad de obtener una suma de 7: {probabilidad_7*100:.4f}%\")\n",
    "print(f\"Probabilidad de obtener una suma de 14: {probabilidad_14*100:.4f}%\")\n",
    "print(f\"Probabilidad de obtener una suma de 18: {probabilidad_18*100:.4f}%\")"
   ]
  },
  {
   "cell_type": "code",
   "execution_count": 40,
   "metadata": {},
   "outputs": [],
   "source": [
    "#Solución Max\n"
   ]
  },
  {
   "cell_type": "code",
   "execution_count": null,
   "metadata": {},
   "outputs": [],
   "source": []
  },
  {
   "cell_type": "markdown",
   "metadata": {},
   "source": [
    "# 2 Ejercicio de aplicación- Cafetería Central\n",
    "\n",
    "Premisas para la simulación:\n",
    "- Negocio de alimentos que vende bebidas y alimentos.\n",
    "- Negocio dentro del ITESO.\n",
    "- Negocio en cafetería central.\n",
    "- Tipo de clientes (hombres y mujeres).\n",
    "- Rentabilidad del 60%.\n",
    "\n",
    "## Objetivo\n",
    "Realizar una simulación estimado el tiempo medio que se tardaran los clientes en ser atendidos entre el horario de 6:30 a 1 pm. Además saber el consumo. \n",
    "**Analizar supuestos y limitantes**"
   ]
  },
  {
   "cell_type": "markdown",
   "metadata": {},
   "source": [
    "## Supuestos en simulación\n",
    "Clasificación de clientes: \n",
    "- Mujer  = 1 $\\longrightarrow$ aleatorio < 0.5\n",
    "- Hombre = 0 $\\longrightarrow$ aleatorio $\\geq$ 0.5.\n",
    "\n",
    "Condiciones iniciales:\n",
    "- Todas las distrubuciones de probabilidad se supondrán uniformes.\n",
    "- Tiempo de simulación: 6:30 am - 1:30pm $\\longrightarrow$ T = 7 horas = 25200 seg.\n",
    "- Tiempo de llegada hasta ser atendido: Min=5seg, Max=30seg.\n",
    "- Tiempo que tardan los clientes en ser atendidos:\n",
    "    - Mujer: Min = 1 min= 60seg, Max = 5 min = 300 seg\n",
    "    - Hombre: Min = 40 seg, Max = 2 min= 120 seg\n",
    "- Consumo según el tipo de cliente:\n",
    "    - Mujer: Min = 30 pesos, Max = 100 pesos\n",
    "    - Hombre: Min = 20 pesos, Max = 80 pesos\n",
    "\n",
    "Responder las siguientes preguntas basados en los datos del problema:\n",
    "1. ¿Cuáles fueron los gastos de los hombres y las mujeres en 5 días de trabajo?.\n",
    "2. ¿Cuál fue el consumo promedio de los hombres y mujeres?\n",
    "3. ¿Cuál fue el número de personas atendidas por día?\n",
    "4. ¿Cuál fue el tiempo de atención promedio?\n",
    "5. ¿Cuánto fue la ganancia promedio de la cafetería en 5 días de trabajo y su respectiva rentabilidad?"
   ]
  },
  {
   "cell_type": "code",
   "execution_count": 41,
   "metadata": {},
   "outputs": [],
   "source": [
    "################## Datos del problema\n",
    "d = 5\n",
    "T =25200\n",
    "T_at_min = 5; T_at_max = 30\n",
    "T_mujer_min =60; T_mujer_max = 300\n",
    "T_hombre_min = 40; T_hombre_max = 120\n",
    "C_mujer_min = 30; C_mujer_max = 100\n",
    "C_hombre_min = 20; C_hombre_max = 80"
   ]
  },
  {
   "cell_type": "code",
   "execution_count": 58,
   "metadata": {},
   "outputs": [
    {
     "name": "stdout",
     "output_type": "stream",
     "text": [
      "1. Gastos de mujeres en 5 días de trabajo: $29259.79\n",
      "   Gastos de hombres en 5 días de trabajo: $21633.98\n",
      "2. Consumo promedio de mujeres: $66.80\n",
      "   Consumo promedio de hombres: $50.19\n",
      "3. Número de personas atendidas por día: 173\n",
      "4. Tiempo de atención promedio: 128.24 segundos\n",
      "5. Ganancia promedio en 5 días de trabajo: $10178.75\n",
      "   Rentabilidad: 20.00%\n"
     ]
    }
   ],
   "source": [
    "#Solución Diego\n",
    "\n",
    "cons_hombre, cons_mujer, consumo_total, personas_atendidas, tiempo_atencion_total, h_at, m_at = 0, 0, 0, 0, 0, 0, 0\n",
    "\n",
    "for _ in range(d):\n",
    "    tiempo_sim = 0\n",
    "    \n",
    "    while tiempo_sim < T:\n",
    "        # Generar el tiempo de llegada hasta ser atendido\n",
    "        tiempo_at = random.randint(T_at_min, T_at_max)\n",
    "        tiempo_sim += tiempo_at\n",
    "        \n",
    "        # Determinar el tipo de cliente\n",
    "        sexo_cliente = 1 if random.random() < 0.5 else 0\n",
    "        \n",
    "        # Generar el tiempo de atención según el tipo de cliente\n",
    "        if sexo_cliente == 1:\n",
    "            tiempo_at = random.randint(T_mujer_min, T_mujer_max)\n",
    "            cons_cliente = random.uniform(C_mujer_min, C_mujer_max)\n",
    "        else:\n",
    "            tiempo_at = random.randint(T_hombre_min, T_hombre_max)\n",
    "            cons_cliente = random.uniform(C_hombre_min, C_hombre_max)\n",
    "        \n",
    "        tiempo_sim += tiempo_at\n",
    "        \n",
    "        # Actualizar variables acumulativas\n",
    "        if sexo_cliente == 1:\n",
    "            cons_mujer += cons_cliente\n",
    "            m_at += 1\n",
    "        else:\n",
    "            cons_hombre += cons_cliente\n",
    "            h_at += 1\n",
    "        \n",
    "        consumo_total += cons_cliente\n",
    "        personas_atendidas += 1\n",
    "        tiempo_atencion_total += tiempo_at\n",
    "\n",
    "# Calcular resultados finales\n",
    "consumo_promedio_mujeres = cons_mujer / m_at\n",
    "consumo_promedio_hombres = cons_hombre / h_at\n",
    "tiempo_atencion_promedio = tiempo_atencion_total / personas_atendidas\n",
    "ganancia_promedio = consumo_total / d\n",
    "rentabilidad = ganancia_promedio / consumo_total\n",
    "\n",
    "# Imprimir resultados\n",
    "print(f\"1. Gastos de mujeres en 5 días de trabajo: ${cons_mujer:.2f}\")\n",
    "print(f\"   Gastos de hombres en 5 días de trabajo: ${cons_hombre:.2f}\")\n",
    "print(f\"2. Consumo promedio de mujeres: ${consumo_promedio_mujeres:.2f}\")\n",
    "print(f\"   Consumo promedio de hombres: ${consumo_promedio_hombres:.2f}\")\n",
    "print(f\"3. Número de personas atendidas por día: {personas_atendidas // d}\")\n",
    "print(f\"4. Tiempo de atención promedio: {tiempo_atencion_promedio:.2f} segundos\")\n",
    "print(f\"5. Ganancia promedio en 5 días de trabajo: ${ganancia_promedio:.2f}\")\n",
    "print(f\"   Rentabilidad: {rentabilidad*100:.2f}%\")\n",
    "\n",
    "\n"
   ]
  },
  {
   "cell_type": "code",
   "execution_count": 43,
   "metadata": {},
   "outputs": [],
   "source": [
    "#Solución Max\n",
    "\n"
   ]
  },
  {
   "cell_type": "code",
   "execution_count": null,
   "metadata": {},
   "outputs": [],
   "source": []
  },
  {
   "cell_type": "code",
   "execution_count": null,
   "metadata": {},
   "outputs": [],
   "source": []
  },
  {
   "cell_type": "code",
   "execution_count": null,
   "metadata": {},
   "outputs": [],
   "source": []
  }
 ],
 "metadata": {
  "kernelspec": {
   "display_name": "Python 3 (ipykernel)",
   "language": "python",
   "name": "python3"
  },
  "language_info": {
   "codemirror_mode": {
    "name": "ipython",
    "version": 3
   },
   "file_extension": ".py",
   "mimetype": "text/x-python",
   "name": "python",
   "nbconvert_exporter": "python",
   "pygments_lexer": "ipython3",
   "version": "3.9.7"
  }
 },
 "nbformat": 4,
 "nbformat_minor": 2
}
